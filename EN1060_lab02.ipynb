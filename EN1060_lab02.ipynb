{
  "nbformat": 4,
  "nbformat_minor": 0,
  "metadata": {
    "kernelspec": {
      "display_name": "Python 3",
      "language": "python",
      "name": "python3"
    },
    "language_info": {
      "codemirror_mode": {
        "name": "ipython",
        "version": 3
      },
      "file_extension": ".py",
      "mimetype": "text/x-python",
      "name": "python",
      "nbconvert_exporter": "python",
      "pygments_lexer": "ipython3",
      "version": "3.6.8-final"
    },
    "colab": {
      "name": "EN1060_lab02 .ipynb",
      "provenance": [],
      "collapsed_sections": []
    }
  },
  "cells": [
    {
      "source": [
        "![image](header.png)"
      ],
      "cell_type": "markdown",
      "metadata": {}
    },
    {
      "cell_type": "markdown",
      "metadata": {
        "id": "ZlxaWvt18355"
      },
      "source": [
        "---\n",
        "**Experiment 2: Signal Analysis in Frequency Domain**\n",
        "\n",
        "\n",
        "---\n",
        "\n",
        "**Objective:** To analyze continuous-time and discrete-time signals in in frequency domain.\n",
        "\n",
        "**Outcome:**   After successfully completion of this session, the student would be able to  \n",
        "\n",
        "*   Analyze and find the frequency components in a continuous time periodic signal.\n",
        "*   Synthesize a periodic signal using the Fourier series.\n",
        "*   Identify the difference between ideal filters and actual filters.\n",
        "*   Use filters in simple applications.\n",
        "\n",
        "\n",
        "**Equipment Required:** \n",
        "*   A personal computer.\n",
        "*   Python with NumPy, SciPy, Matplotlib.\n",
        "\n",
        "**Components Required:** None\n",
        "\n",
        "---\n",
        "\n",
        "---\n",
        "\n",
        "# 1.  **Fourier Series Approximation**\n",
        "\n",
        "The Fourier series analysis equation for a continuous time periodic signal $x(t)$, having the period $T$,\n",
        "angular frequency $\\omega_0$ (= $2\\pi/T$), can be given as follows.\n",
        "\n",
        "$$a_k = \\frac{1}{T}\\int_{T} x(t)e^{-jk\\omega_0t} \\,dt $$\n",
        "\n",
        "### Q: Find the Fourier Series coefficients for the square wave given in Figure 1. (Graded)\n",
        "*( Hint: Take $T_1 = T / 4$)*\n",
        "\n",
        "(Please note: Include an image of your work.)\n"
      ]
    },
    {
      "cell_type": "markdown",
      "metadata": {
        "id": "ocg9a15CTtFP"
      },
      "source": [
        "![ ](https://drive.google.com/uc?export=view&id=1c4PgTxPgP4utge7OjjPu9uFDylTe21OC)\r\n"
      ]
    },
    {
      "cell_type": "markdown",
      "metadata": {
        "id": "pZlLFyeW56sd"
      },
      "source": [
        "Please run the following code snippet to upload your answer."
      ]
    },
    {
      "cell_type": "code",
      "metadata": {
        "id": "Jkpn2t735YIM"
      },
      "source": [
        "from google.colab import files\r\n",
        "\r\n",
        "uploaded = files.upload()\r\n",
        "\r\n",
        "for fn in uploaded.keys():\r\n",
        "  print('User uploaded file \"{name}\" with length {length} bytes'.format(\r\n",
        "      name=fn, length=len(uploaded[fn])))"
      ],
      "execution_count": null,
      "outputs": []
    },
    {
      "cell_type": "markdown",
      "metadata": {
        "id": "p6BJstvIiWMs"
      },
      "source": [
        "Let's import the required packages first."
      ]
    },
    {
      "cell_type": "code",
      "metadata": {
        "id": "tA7jZE8SjFzK"
      },
      "source": [
        "# Imports\n",
        "import numpy as np\n",
        "import matplotlib.pyplot as plt\n",
        "from scipy.fftpack import fft,fftshift,ifft\n",
        "from scipy import signal"
      ],
      "execution_count": null,
      "outputs": []
    },
    {
      "cell_type": "markdown",
      "metadata": {
        "id": "b0u__8lklDq6"
      },
      "source": [
        "### Q: Taking $A = 1V$, $T = 1s$ complete the function $a(k)$ to return the Fourier series coefficients of the square wave for given any integer value of $k$. (Graded)\n",
        "\n",
        "The Fourier series synthesis equation is given as, $x(t)$ = $\\sum_{k=-\\infty}^{\\infty}{a_ke^{jk\\omega_0t}}$. The following is the\n",
        "equation for the Fourier series approximation of original periodic signal with N number of harmonics.\n",
        "\n",
        "$$x(t)\\simeq x_N(t) = \\sum_{k=-N}^{N}{a_ke^{jk\\omega_0t}}$$"
      ]
    },
    {
      "cell_type": "code",
      "metadata": {
        "id": "JlvFpH6C8zAj"
      },
      "source": [
        "# Square pulse\n",
        "def square(t):\n",
        "    if t % 1 < 0.25 or t % 1 > 0.75:\n",
        "        s = 1\n",
        "    elif t % 1 == 0.25 or t % 1 == 0.75:\n",
        "        s = 0.5\n",
        "    else:\n",
        "        s = 0\n",
        "    return s\n",
        "\n",
        "# Fourier series coefficients \n",
        "def a(k):\n",
        "    # Your code goes here\n",
        "    a_k = 1\n",
        "    <------------\n",
        "    ------------->\n",
        "    \n",
        "    return a_k"
      ],
      "execution_count": null,
      "outputs": []
    },
    {
      "cell_type": "markdown",
      "metadata": {
        "id": "8FGrdyj-lSGC"
      },
      "source": [
        "### Q: Complete the function ```fs_approx(t,N)``` to return the value of a Fourier series approximated periodic signal, at any given time. (Graded)"
      ]
    },
    {
      "cell_type": "code",
      "metadata": {
        "id": "00F9YV9Up0Jl"
      },
      "source": [
        "def fs_approx(t, N):\n",
        "    # Your code goes here\n",
        "    x_t = 0\n",
        "    <------------\n",
        "    ------------->\n",
        "\n",
        "    return x_t"
      ],
      "execution_count": null,
      "outputs": []
    },
    {
      "cell_type": "markdown",
      "metadata": {
        "id": "e3vBWI1LrwbG"
      },
      "source": [
        "### Q: Update the python script according to the following guidelines. (Graded)\n",
        "\n",
        "\n",
        "*   Create the array $t$ with equally spaced 1000 elements in the interval $[-2.5,2.5]$\n",
        "*   Use the ```square(t)``` function to fill the array $x$ with the values of square wave at each time instant in the array $t$.\n",
        "*   Use the function ```fs_approx(t,N)``` to fill the array $y$ with the function values of the Fourier series approximated square wave.\n",
        "\n"
      ]
    },
    {
      "cell_type": "code",
      "metadata": {
        "id": "pjwocxYC8zBC"
      },
      "source": [
        "# Fourier series approximation of the square wave\n",
        "x = []\n",
        "y = []\n",
        "N = 5  # CHANGE HERE\n",
        "\n",
        "time = <----> # Your code goes here\n",
        "for t in time:\n",
        "    # Your code goes here\n",
        "    <------------\n",
        "    ------------->"
      ],
      "execution_count": null,
      "outputs": []
    },
    {
      "cell_type": "markdown",
      "metadata": {
        "id": "yeGAuuyZwCrw"
      },
      "source": [
        "### Q: Write a Python script to plot the original signal, $x(t)$ and the approximated signal, $x_N(t)$ in the same figure for $N=5$. (Graded)"
      ]
    },
    {
      "cell_type": "code",
      "metadata": {
        "id": "YFaERo218zBE"
      },
      "source": [
        "# Your code goes here\n",
        "<------------\n",
        "------------->"
      ],
      "execution_count": null,
      "outputs": []
    },
    {
      "cell_type": "markdown",
      "metadata": {
        "id": "E0C6gbBz4zdF"
      },
      "source": [
        "### Q: Plot the original signal, $x(t)$ and the approximated signal, $x_N(t)$ in the same figure for $N=50$. (Graded)\n"
      ]
    },
    {
      "cell_type": "code",
      "metadata": {
        "id": "UKfI5Pi25NV4"
      },
      "source": [
        "# Your code goes here"
      ],
      "execution_count": null,
      "outputs": []
    },
    {
      "cell_type": "markdown",
      "metadata": {
        "id": "TgMh594l6DiI"
      },
      "source": [
        "### Q: Comment on your observations. ( i.e. for $N=5$ and $N=50$)"
      ]
    },
    {
      "cell_type": "markdown",
      "metadata": {
        "id": "jt1s5oGj6SME"
      },
      "source": [
        "< Your answer ( Double-click (or enter) to enter ) >"
      ]
    },
    {
      "cell_type": "markdown",
      "metadata": {
        "id": "15oUV7e98zBH"
      },
      "source": [
        "# 2. Fourier Series Coefficients (Graded)\n",
        "\n",
        "\n",
        "\n",
        "*   Create the two arrays ***k*** and ***ak*** with integers in the interval $k = −20, \\dots , 20$ and the Fourier series coefficients of the square wave for each $k$ value in the array, respectively.\n",
        "*   Use ```stem()``` function to plot the Fourier series coefficients against $k$.\n",
        "\n",
        "\n",
        "\n"
      ]
    },
    {
      "cell_type": "code",
      "metadata": {
        "id": "450sCeo68zBJ"
      },
      "source": [
        "# Your code goes here\n",
        "k = <---->\n",
        "ak = <---->\n",
        "\n",
        "# Fourier series coefficients\n",
        "# Your code goes here\n",
        "<------------\n",
        "------------->"
      ],
      "execution_count": null,
      "outputs": []
    },
    {
      "cell_type": "markdown",
      "metadata": {
        "id": "O0rGqBFk843T"
      },
      "source": [
        "### Q: Plot normalized fft coefficients in $X_{norm}$ vs $k$ with ```stem()``` function. Use ```set_xlim()``` function to limit the x-axis to the interval $[−20, 20]$ (Graded).\n"
      ]
    },
    {
      "cell_type": "code",
      "metadata": {
        "id": "rFjQEjWV8zBK"
      },
      "source": [
        "N = 200\n",
        "t = np.linspace(0, 1-1/N, N)\n",
        "x = []\n",
        "for i in t:\n",
        "    x.append(square(i))\n",
        "\n",
        "# Obtaining FFT coefficients\n",
        "X = fftshift(fft(x))\n",
        "X_norm = X.real/N\n",
        "k = np.linspace(-N/2, N/2-1, N)\n",
        "\n",
        "# plotting fft coefficients \n",
        "# Your code goes here\n",
        "<------------\n",
        "------------->"
      ],
      "execution_count": null,
      "outputs": []
    },
    {
      "cell_type": "markdown",
      "metadata": {
        "id": "oE6xjEjiAz5v"
      },
      "source": [
        "### Q: Comment on the observations from the above codes. (Graded)"
      ]
    },
    {
      "cell_type": "markdown",
      "metadata": {
        "id": "qQDYf--LC98e"
      },
      "source": [
        "< Your answer ( Double-click (or enter) to enter ) >"
      ]
    },
    {
      "cell_type": "markdown",
      "metadata": {
        "id": "OnfYAZoL8zBN"
      },
      "source": [
        "# 3. Ideal Filters and Actual Filters"
      ]
    },
    {
      "cell_type": "markdown",
      "metadata": {
        "id": "d31Y7VffESLw"
      },
      "source": [
        "In this section, we will observe the filtering operation of ideal filters and actual filters by passing a waveform containing sinusoids with different frequencies through the filters.\n",
        "\n",
        "### Q: Complete the function $x(t)$ to return the function value given in the following equation: $a_1 = 0.75$, $a_2 = 1$, $a_3 = 0.5$, $\\omega_1 = 100\\pi$, $\\omega_2 = 400\\pi$, $\\omega_3 = 800\\pi$ (Graded)\n",
        "\n",
        "$x(t) = a_1 \\sin(\\omega_1t) + a_2 \\sin(\\omega_2t) + a_3 \\sin(\\omega_3t)$"
      ]
    },
    {
      "cell_type": "code",
      "metadata": {
        "id": "AeRI1CjY8zBQ"
      },
      "source": [
        "# Creating 3 sinusoidal signals\n",
        "# Your code goes here\n",
        "w1 = <----->\n",
        "w2 = <----->\n",
        "w3 = <----->\n",
        "a1 = <----->\n",
        "a2 = <----->\n",
        "a3 = <----->\n",
        "fs = 4095\n",
        "ws = 2*np.pi*fs\n",
        "\n",
        "def x(t):\n",
        "    # Your code goes here\n",
        "    x_t = \n",
        "    <------------\n",
        "    ------------->\n",
        "    return x_t"
      ],
      "execution_count": null,
      "outputs": []
    },
    {
      "cell_type": "markdown",
      "metadata": {
        "id": "23KjrNn7GmYt"
      },
      "source": [
        "### Q: Write a python code to plot the waveform in time domain. Limit the x-axis to the interval $[0,0.04]$. (Graded)"
      ]
    },
    {
      "cell_type": "code",
      "metadata": {
        "id": "eRN4TzZ18zBS"
      },
      "source": [
        "time = np.linspace(0,1,fs+1)\n",
        "xt = [x(t_) for t_ in time]\n",
        "\n",
        "# Plotting the input signal in time domain\n",
        "# our code goes here\n",
        "<------------\n",
        "------------->"
      ],
      "execution_count": null,
      "outputs": []
    },
    {
      "cell_type": "markdown",
      "metadata": {
        "id": "udU2xtIeUHW3"
      },
      "source": [
        "### Q: Complete the python code for plotting the *absolute* value of the Fourier transform of $x(t)$, that is $|X(\\omega)|$ against the angular frequency $\\omega$. Execute the cell and sketch the result. (Graded)"
      ]
    },
    {
      "cell_type": "code",
      "metadata": {
        "id": "H3w2KvWs8zBU"
      },
      "source": [
        "Xw = fft(xt, 4096)*2*np.pi/fs\n",
        "Xw = fftshift(Xw)\n",
        "k = np.arange(1,4097)\n",
        "w = k/4096*ws - ws/2\n",
        "\n",
        "# Plotting the input signal in frequency domain\n",
        "fig, ax = plt.subplots()\n",
        "# Your code goes here\n",
        "<------------\n",
        "------------->\n",
        "\n",
        "ax.set_title('Frequency Response of the Input signal')\n",
        "ax.set_xlabel('Angular frequency -'+r' $\\omega$  (rad/s)')\n",
        "ax.set_ylabel('Magnitude')\n",
        "ax.set_xticks(np.arange(-1200*np.pi, 1200*np.pi+1,400*np.pi))\n",
        "ax.set_xticklabels([str(i)+(r'$\\pi$' if i else '') for i in range(-1200,1210,400)])\n",
        "ax.set_xlim(-1000*np.pi, 1000*np.pi)\n",
        "ax.set_yticks([0,np.pi/2,np.pi])\n",
        "ax.set_yticklabels([0,r'$\\pi$/2',r'$\\pi$'])\n",
        "plt.grid()"
      ],
      "execution_count": null,
      "outputs": []
    },
    {
      "cell_type": "markdown",
      "metadata": {
        "id": "Vx1Y8ZSMU6cP"
      },
      "source": [
        "An ideal filter with the following frequency response can be used to obtain the sinusoid with the angular frequency of $\\omega_2 = 400\\pi$, as the output waveform.\n",
        "\n",
        "$$\n",
        "H(j\\omega)=   \\left\\{\n",
        "\\begin{array}{ll}\n",
        "      1 & \\omega_{c1}<|\\omega|<\\omega_{c2} \\\\\n",
        "      0 & otherwise \\\\\n",
        "\\end{array} \n",
        "\\right.\n",
        "$$\n",
        "\n",
        "Here, $\\omega_{c1}$ and $\\omega_{c2}$ are cutoff frequencies and taken as the mid points of the impulses.\n",
        "\n",
        "### Q: Complete the function,  ```ideal_filter(w)``` to output the $H(j\\omega)$. (Graded)"
      ]
    },
    {
      "cell_type": "code",
      "metadata": {
        "id": "cabal7BS8zBW"
      },
      "source": [
        "# Ideal filter\n",
        "wc1  = (w1+w2)/2\n",
        "wc2  = (w2+w3)/2\n",
        "\n",
        "def ideal_filter(w):\n",
        "    # Your code goes here\n",
        "    gain = 1\n",
        "    <------------\n",
        "    ------------->    \n",
        "    return gain\n",
        "\n"
      ],
      "execution_count": null,
      "outputs": []
    },
    {
      "cell_type": "markdown",
      "metadata": {
        "id": "89K37D5ax6Du"
      },
      "source": [
        "### Q: Use the ```ideal_filter(w)``` function to fill the list ```H_0w```, with the ideal filter value for each element in $w$. Complete the following code and sketch the output below. (Graded)\n",
        "\n",
        "**Part (A)**"
      ]
    },
    {
      "cell_type": "code",
      "metadata": {
        "id": "07wxbvrZ8zBZ"
      },
      "source": [
        "k = np.arange(1,4097)\n",
        "w = k/4096*ws - ws/2\n",
        "# Your code goes here\n",
        "H0w  = <----> \n",
        "\n",
        "# Simulation of Filtering\n",
        "Y0w  = np.multiply(Xw,H0w)\n",
        "\n",
        "# Obtaining the time domain signal\n",
        "y0t  = ifft(fftshift(Y0w*fs/(2*np.pi)))\n",
        "\n",
        "# Ideal filter frequency response (magnitude)\n",
        "fig, axes  = plt.subplots(3,1, figsize=(18,18))\n",
        "axes[0].plot(w,H0w)\n",
        "axes[0].set_title('Frequency Response of the Ideal Filter')\n",
        "axes[0].set_xlabel('Angular frequency -'+r' $\\omega$  (rad/s)')\n",
        "axes[0].set_ylabel('Magnitude')\n",
        "axes[0].set_xticks(np.arange(-1200*np.pi, 1200*np.pi+1,200*np.pi))\n",
        "axes[0].set_xticklabels([str(i)+(r'$\\pi$' if i else '') for i in range(-1200,1210,200)])\n",
        "axes[0].set_xlim(-1000*np.pi, 1000*np.pi)\n",
        "axes[0].grid()\n",
        "\n",
        "# Frequency response of the ideal filter output (magnitude)\n",
        "axes[1].plot(w,abs(Y0w))\n",
        "axes[1].set_title('Fourier Transform of the Output Signal')\n",
        "axes[1].set_xlabel('Angular frequency -'+r' $\\omega$  (rad/s)')\n",
        "axes[1].set_ylabel('Magnitude')\n",
        "axes[1].set_xticks(np.arange(-1200*np.pi, 1200*np.pi+1,200*np.pi))\n",
        "axes[1].set_xticklabels([str(i)+(r'$\\pi$' if i else '') for i in range(-1200,1210,200)])\n",
        "axes[1].set_xlim(-1000*np.pi, 1000*np.pi)\n",
        "axes[1].set_yticks([0,np.pi/2,np.pi])\n",
        "axes[1].set_yticklabels([0,r'$\\pi$/2',r'$\\pi$'])\n",
        "axes[1].grid()\n",
        "\n",
        "# Output signal in time domain\n",
        "axes[2].plot(time,np.real(y0t))\n",
        "axes[2].set_title('Output Signal in time domain')\n",
        "axes[2].set_xlabel('Time (s)')\n",
        "axes[2].set_ylabel('Amplitude')\n",
        "axes[2].set_xlim(0, 0.04)\n",
        "axes[2].grid()"
      ],
      "execution_count": null,
      "outputs": []
    },
    {
      "cell_type": "markdown",
      "metadata": {
        "id": "HRwoEO8ezAAu"
      },
      "source": [
        "Execute the bellow cells and observe the output.\n",
        "\n",
        "**Part (B)**"
      ]
    },
    {
      "cell_type": "code",
      "metadata": {
        "id": "NimQ9aQy8zBd"
      },
      "source": [
        "# Actual Filter\n",
        "b, a  = signal.butter(5, [2*wc1/ws, 2*wc2/ws], 'bandpass', analog=False)\n",
        "ww, h = signal.freqz(b, a, 2047)\n",
        "ww    = np.append(-np.flipud(ww), ww)*ws/(2*np.pi)\n",
        "h     = np.append(np.flipud(h), h)\n",
        "\n",
        "# Filtering\n",
        "y     = signal.lfilter(b,a,xt)\n",
        "\n",
        "# Obtaining the frequency response of the output signal\n",
        "Y     = fft(y,4096)*2*np.pi/fs\n",
        "Y     = fftshift(Y)"
      ],
      "execution_count": null,
      "outputs": []
    },
    {
      "cell_type": "code",
      "metadata": {
        "id": "Av-KU6mv8zBk"
      },
      "source": [
        "# Actual filter frequency response (magnitude)\n",
        "fig, axes  = plt.subplots(3,1, figsize=(18,18))\n",
        "axes[0].plot(ww, abs(h) )\n",
        "axes[0].set_xlabel('Angular frequency -'+r' $\\omega$  (rad/s)')\n",
        "axes[0].set_ylabel('Magnitude')\n",
        "axes[0].set_title('Frequency Response of the Actual Filter')\n",
        "axes[0].set_xticks(np.arange(-1200*np.pi, 1200*np.pi+1,200*np.pi))\n",
        "axes[0].set_xticklabels([str(i)+(r'$\\pi$' if i else '') for i in range(-1200,1210,200)])\n",
        "axes[0].set_xlim(-1000*np.pi, 1000*np.pi)\n",
        "axes[0].grid()\n",
        "\n",
        "# Frequency response of the actual filter output (magnitude)\n",
        "axes[1].plot(w,abs(Y))\n",
        "axes[1].set_title('Fourier Transform of the Output Signal')\n",
        "axes[1].set_xlabel('Angular frequency -'+r' $\\omega$  (rad/s)')\n",
        "axes[1].set_ylabel('Magnitude')\n",
        "axes[1].set_xticks(np.arange(-1200*np.pi, 1200*np.pi+1,200*np.pi))\n",
        "axes[1].set_xticklabels([str(i)+(r'$\\pi$' if i else '') for i in range(-1200,1210,200)])\n",
        "axes[1].set_xlim(-1000*np.pi, 1000*np.pi)\n",
        "axes[1].set_yticks([0,np.pi/2,np.pi])\n",
        "axes[1].set_yticklabels([0,r'$\\pi$/2',r'$\\pi$'])\n",
        "axes[1].grid()\n",
        "\n",
        "# # Output signal in time domain\n",
        "axes[2].plot(time,np.real(y))\n",
        "axes[2].set_title('Output Signal in time domain')\n",
        "axes[2].set_xlabel('Time (s)')\n",
        "axes[2].set_ylabel('Amplitude')\n",
        "axes[2].set_xlim(0, 0.04)\n",
        "axes[2].grid()"
      ],
      "execution_count": null,
      "outputs": []
    },
    {
      "cell_type": "markdown",
      "metadata": {
        "id": "BYaJFK_J0eo8"
      },
      "source": [
        "### Q: Comment on your observations in Part (A) and Part (B). [Graded]"
      ]
    },
    {
      "cell_type": "markdown",
      "metadata": {
        "id": "vLMumDom0sx3"
      },
      "source": [
        "< Your answer ( Double-click (or enter) to enter ) >"
      ]
    },
    {
      "cell_type": "markdown",
      "metadata": {
        "id": "lHRlFXc48zBn"
      },
      "source": [
        "# 4. Removing power line noise in an ECG signal"
      ]
    },
    {
      "cell_type": "markdown",
      "metadata": {
        "id": "PffQPxqC1WRb"
      },
      "source": [
        "The electrocardiogram (ECG) is a bio-signal that gives electrical activity of heart. The ECG signal is characterized by six peaks and valleys, which are traditionally labeled P, Q, R, S, T, and U, shown in Figure 2. ECG has frequency range from $0.5$ Hz to $80$ Hz and power line interference, mainly coming from electromagnetic interference by power line, introduces $50$ Hz frequency component in that signal which is the major cause of corruption of ECG [[1]]. In this section we will design a simple filter to remove the power line interference from an ECG signal."
      ]
    },
    {
      "cell_type": "markdown",
      "metadata": {
        "id": "sjCSefepUXxy"
      },
      "source": [
        "![ ](https://drive.google.com/uc?export=view&id=1nLKxzGoHOUEtwEXs-9LKs6MEGV1gggkw)\r\n"
      ]
    },
    {
      "cell_type": "markdown",
      "metadata": {
        "id": "rrBtGO-x2n-V"
      },
      "source": [
        "### Q: Write a Python script to read the data [[2]] in the file *‘ecg_signal.csv’* and fill the list ecg with the data. Then plot the ***absolute value*** of the Fourier tranform ($F$) with respect to frequency ($fr$). Limit the $x$ axis to the interval $[-100,100]$. (Graded)"
      ]
    },
    {
      "cell_type": "code",
      "metadata": {
        "id": "XO8wAvlo8zBs"
      },
      "source": [
        "# Reading the ECG data\n",
        "ecg = []\n",
        "# Your code goes here\n",
        "<------------\n",
        "------------->\n",
        "\n",
        "duration = 10 # seconds\n",
        "T = duration/len(ecg)\n",
        "Fs = 1/T\n",
        "\n",
        "# Obtaining the fourier transform\n",
        "F = fftshift(fft(ecg))\n",
        "fr = np.linspace(-Fs/2, Fs/2, len(F))\n",
        "\n",
        "# Plotting the fourier transform of the ecg signal\n",
        "# Your code goes here\n",
        "<------------\n",
        "------------->"
      ],
      "execution_count": null,
      "outputs": []
    },
    {
      "cell_type": "markdown",
      "metadata": {
        "id": "pdUTwJbNwHB6"
      },
      "source": [
        "### Q: What type of filter can be used to remove the noise at 50Hz?"
      ]
    },
    {
      "cell_type": "markdown",
      "metadata": {
        "id": "nhHn228WwLgH"
      },
      "source": [
        "< Your answer ( Double-click (or enter) to enter ) >"
      ]
    },
    {
      "cell_type": "markdown",
      "metadata": {
        "id": "LgP74TO8wXRS"
      },
      "source": [
        "### Q: Execute the following cell and sketch the frequency response of the filter. Identify the filter name from the table given below. (Graded)\n",
        "\n",
        "Filter type | Filter name\n",
        "---  | ---\n",
        "Low pass filter  | ‘lowpass’\n",
        "Band pass filter | ‘bandpass’\n",
        "High pass filter | ‘highpass’\n",
        "Band stop filter | ‘bandstop’"
      ]
    },
    {
      "cell_type": "code",
      "metadata": {
        "id": "jnYi4pBq8zBw"
      },
      "source": [
        "# Designing the filter\n",
        "f1 = 49\n",
        "f2 = 51\n",
        "filter_type = <-----> # Your code goes here\n",
        "b, a = signal.butter(2, [2*f1/Fs, 2*f2/Fs], filter_type , analog=False)\n",
        "\n",
        "# Obtaining the frequency response of the filter\n",
        "ww, h = signal.freqz(b, a, 2047)\n",
        "ww = np.append(-np.flipud(ww), ww)\n",
        "h = np.append(np.flipud(h), h)\n",
        "\n",
        "# Plotting the frequency response\n",
        "fig, ax = plt.subplots(figsize=(10,6))\n",
        "ax.plot(ww*Fs/(2*np.pi), abs(h) )\n",
        "ax.set_title('Frequency Response of the Actual Filter')\n",
        "ax.set_xlabel('Frequency [Hz]')\n",
        "ax.set_ylabel('Magnitude')\n",
        "ax.set_xlim(-100,100)\n",
        "ax.grid()"
      ],
      "execution_count": null,
      "outputs": []
    },
    {
      "cell_type": "markdown",
      "metadata": {
        "id": "2FkgmnL50oyN"
      },
      "source": [
        "### Q: Plot the input and the output waveforms vs. time. Use ```subplots``` function to plot the graphs in two axes in the same figure. Limit the x axis to the interval $[0,3]$. Sketch the result (Graded)."
      ]
    },
    {
      "cell_type": "code",
      "metadata": {
        "id": "2IbAnG8R8zB0"
      },
      "source": [
        "time = np.arange(T, duration+T, T)\n",
        "\n",
        "# Filtering the ECG wavefoem\n",
        "output = signal.lfilter(b, a, ecg)\n",
        "\n",
        "# Plotting the input and the output waveforms\n",
        "# Your code goes here\n",
        "<------------\n",
        "------------->"
      ],
      "execution_count": null,
      "outputs": []
    },
    {
      "cell_type": "markdown",
      "metadata": {
        "id": "Ftxy8DGF2tAm"
      },
      "source": [
        "### Q: Plot the ```absolute value``` of Fourier transform ($F$) of the output waveform with respect to the frequency ($fr$). Limit the x axis to the interval $[-100,100]$. Sketch the output. (Graded)"
      ]
    },
    {
      "cell_type": "code",
      "metadata": {
        "id": "NoziCLaz8zB1"
      },
      "source": [
        "F = fftshift(fft(output))\n",
        "\n",
        "# Plotting the fourier transform of the ecg signal\n",
        "# Your code goes here\n",
        "<------------\n",
        "------------->"
      ],
      "execution_count": null,
      "outputs": []
    },
    {
      "cell_type": "markdown",
      "metadata": {
        "id": "WmDyjjs-5TlI"
      },
      "source": [
        "# References\r\n",
        "[1] S. Thalkar and Dhananjay Upasani, *Various Techniques for Removal of Power Line Interference From ECG Signal,* International Journal of Scientific & Engineering Research, vol. 4, no. 12, 2013.\r\n",
        "\r\n",
        "[2] A. Goldberger, L. Amaral, L. Glass, J. Hausdorff, P. Ivanov, R. Mark, J. Mietus, G. Moody, C.-K. Peng\r\n",
        "and H. Stanley, *MIT-BIH Arrhythmia Database*, 24 February 2005. [Online]. Available:\r\n",
        "http://www.physionet.org/physiobank/database/mitdb/."
      ]
    }
  ]
}